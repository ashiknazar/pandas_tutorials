{
 "cells": [
  {
   "cell_type": "code",
   "execution_count": 1,
   "metadata": {},
   "outputs": [
    {
     "name": "stdout",
     "output_type": "stream",
     "text": [
      "   Color_Blue  Color_Green  Color_Red  Size_Large  Size_Medium  Size_Small\n",
      "0       False        False       True       False        False        True\n",
      "1        True        False      False        True        False       False\n",
      "2       False         True      False       False         True       False\n",
      "3        True        False      False       False        False        True\n",
      "4       False        False       True        True        False       False\n"
     ]
    }
   ],
   "source": [
    "import pandas as pd\n",
    "\n",
    "# Sample DataFrame\n",
    "df = pd.DataFrame({\n",
    "    'Color': ['Red', 'Blue', 'Green', 'Blue', 'Red'],\n",
    "    'Size': ['Small', 'Large', 'Medium', 'Small', 'Large']\n",
    "})\n",
    "\n",
    "# Convert categorical variables into dummy variables\n",
    "df_dummies = pd.get_dummies(df)\n",
    "\n",
    "print(df_dummies)\n"
   ]
  },
  {
   "cell_type": "code",
   "execution_count": 2,
   "metadata": {},
   "outputs": [
    {
     "name": "stdout",
     "output_type": "stream",
     "text": [
      "   Color_Green  Color_Red  Size_Medium  Size_Small\n",
      "0        False       True        False        True\n",
      "1        False      False        False       False\n",
      "2         True      False         True       False\n",
      "3        False      False        False        True\n",
      "4        False       True        False       False\n"
     ]
    }
   ],
   "source": [
    "df_dummies = pd.get_dummies(df, drop_first=True)\n",
    "print(df_dummies)\n"
   ]
  },
  {
   "cell_type": "code",
   "execution_count": 3,
   "metadata": {},
   "outputs": [
    {
     "name": "stdout",
     "output_type": "stream",
     "text": [
      "   Color_Blue  Color_Green  Color_Red  Size_Large  Size_Medium  Size_Small\n",
      "0           0            0          1           0            0           1\n",
      "1           1            0          0           1            0           0\n",
      "2           0            1          0           0            1           0\n",
      "3           1            0          0           0            0           1\n",
      "4           0            0          1           1            0           0\n"
     ]
    }
   ],
   "source": [
    "import pandas as pd\n",
    "\n",
    "# Sample DataFrame with boolean values\n",
    "df = pd.DataFrame({\n",
    "    'Color': ['Red', 'Blue', 'Green', 'Blue', 'Red'],\n",
    "    'Size': ['Small', 'Large', 'Medium', 'Small', 'Large']\n",
    "})\n",
    "\n",
    "# Convert categorical variables into dummy variables\n",
    "df_dummies = pd.get_dummies(df)\n",
    "\n",
    "# Convert True/False to 1/0\n",
    "df_dummies = df_dummies.astype(int)\n",
    "\n",
    "print(df_dummies)\n"
   ]
  },
  {
   "cell_type": "code",
   "execution_count": null,
   "metadata": {},
   "outputs": [],
   "source": []
  }
 ],
 "metadata": {
  "kernelspec": {
   "display_name": "base",
   "language": "python",
   "name": "python3"
  },
  "language_info": {
   "codemirror_mode": {
    "name": "ipython",
    "version": 3
   },
   "file_extension": ".py",
   "mimetype": "text/x-python",
   "name": "python",
   "nbconvert_exporter": "python",
   "pygments_lexer": "ipython3",
   "version": "3.12.7"
  }
 },
 "nbformat": 4,
 "nbformat_minor": 2
}
