{
  "nbformat": 4,
  "nbformat_minor": 0,
  "metadata": {
    "colab": {
      "provenance": []
    },
    "kernelspec": {
      "name": "python3",
      "display_name": "Python 3"
    },
    "language_info": {
      "name": "python"
    }
  },
  "cells": [
    {
      "cell_type": "code",
      "execution_count": 1,
      "metadata": {
        "id": "o7fg24mp7Piq"
      },
      "outputs": [],
      "source": [
        "import pandas as pd\n"
      ]
    },
    {
      "cell_type": "markdown",
      "source": [
        " Pandas is one of the most widely-used libraries in Python for data manipulation and analysis. It provides powerful data structures like ``DataFrame`` and ``Series`` that make it easy to work with structured data, whether it's from a CSV, database, or other sources"
      ],
      "metadata": {
        "id": "UeAXvwi-7vfQ"
      }
    },
    {
      "cell_type": "markdown",
      "source": [
        "# Creating a DataFrame\n",
        " - A DataFrame is a 2-dimensional labeled data structure (like a table). It’s the primary object you'll work with in pandas.\n",
        " - You can create a DataFrame by passing a dictionary where the keys are the column names, and the values are lists (the rows)."
      ],
      "metadata": {
        "id": "aUXQHc928Eww"
      }
    },
    {
      "cell_type": "code",
      "source": [
        "\n",
        "import pandas as pd\n",
        "\n",
        "# Creating a DataFrame from a dictionary\n",
        "data = {\n",
        "    'Name': ['Alice', 'Bob', 'Charlie'],\n",
        "    'Age': [25, 30, 35],\n",
        "    'City': ['New York', 'Los Angeles', 'Chicago']\n",
        "}\n",
        "\n",
        "df = pd.DataFrame(data)\n",
        "print(df)\n"
      ],
      "metadata": {
        "colab": {
          "base_uri": "https://localhost:8080/"
        },
        "id": "Re2872w67bn6",
        "outputId": "75516e5a-7610-4a30-f992-dc97c1f30b92"
      },
      "execution_count": 2,
      "outputs": [
        {
          "output_type": "stream",
          "name": "stdout",
          "text": [
            "      Name  Age         City\n",
            "0    Alice   25     New York\n",
            "1      Bob   30  Los Angeles\n",
            "2  Charlie   35      Chicago\n"
          ]
        }
      ]
    },
    {
      "cell_type": "markdown",
      "source": [
        "# Basic DataFrame Operations\n",
        "\n"
      ],
      "metadata": {
        "id": "fjl7koO28gpr"
      }
    },
    {
      "cell_type": "code",
      "source": [
        "print(df.head())  # First 5 rows (default)\n",
        "print(\"--------------------\")\n",
        "print(df.head(2)) # First 2 rows"
      ],
      "metadata": {
        "colab": {
          "base_uri": "https://localhost:8080/"
        },
        "id": "OOmbnnpI8ala",
        "outputId": "d8c6a985-8650-4114-e168-02078e2f898c"
      },
      "execution_count": 4,
      "outputs": [
        {
          "output_type": "stream",
          "name": "stdout",
          "text": [
            "      Name  Age         City\n",
            "0    Alice   25     New York\n",
            "1      Bob   30  Los Angeles\n",
            "2  Charlie   35      Chicago\n",
            "--------------------\n",
            "    Name  Age         City\n",
            "0  Alice   25     New York\n",
            "1    Bob   30  Los Angeles\n"
          ]
        }
      ]
    },
    {
      "cell_type": "code",
      "source": [
        "print(df.tail())  # Last 5 rows (default)\n"
      ],
      "metadata": {
        "colab": {
          "base_uri": "https://localhost:8080/"
        },
        "id": "3TCgg7VG8sRZ",
        "outputId": "f62989a8-b3e9-4363-f20d-7e1bd28ccc9a"
      },
      "execution_count": 5,
      "outputs": [
        {
          "output_type": "stream",
          "name": "stdout",
          "text": [
            "      Name  Age         City\n",
            "0    Alice   25     New York\n",
            "1      Bob   30  Los Angeles\n",
            "2  Charlie   35      Chicago\n"
          ]
        }
      ]
    },
    {
      "cell_type": "code",
      "source": [
        "print(df.shape)  # Returns (rows, columns)\n"
      ],
      "metadata": {
        "colab": {
          "base_uri": "https://localhost:8080/"
        },
        "id": "T9EzLWDh82U_",
        "outputId": "e796a5fb-db49-47ad-ba68-b95c54ce6fcc"
      },
      "execution_count": 6,
      "outputs": [
        {
          "output_type": "stream",
          "name": "stdout",
          "text": [
            "(3, 3)\n"
          ]
        }
      ]
    },
    {
      "cell_type": "code",
      "source": [
        "print(df.columns)  # Column names\n",
        "print(df.index)    # Index (row labels)\n"
      ],
      "metadata": {
        "colab": {
          "base_uri": "https://localhost:8080/"
        },
        "id": "vWHug7GR84Jv",
        "outputId": "2f59595e-2b5b-4bb9-ea06-5edc75cbb3c9"
      },
      "execution_count": 7,
      "outputs": [
        {
          "output_type": "stream",
          "name": "stdout",
          "text": [
            "Index(['Name', 'Age', 'City'], dtype='object')\n",
            "RangeIndex(start=0, stop=3, step=1)\n"
          ]
        }
      ]
    },
    {
      "cell_type": "markdown",
      "source": [
        "# Selecting Data"
      ],
      "metadata": {
        "id": "5BzGa2rX9ja7"
      }
    },
    {
      "cell_type": "code",
      "source": [
        "print(df['Name'])  # Using key-like access\n",
        "print(df.Name)     # Using attribute-like access (valid for simple column names)\n"
      ],
      "metadata": {
        "colab": {
          "base_uri": "https://localhost:8080/"
        },
        "id": "c3rN-Yrd89oK",
        "outputId": "409e6f8a-dbd7-4459-c500-21a72624e064"
      },
      "execution_count": 8,
      "outputs": [
        {
          "output_type": "stream",
          "name": "stdout",
          "text": [
            "0      Alice\n",
            "1        Bob\n",
            "2    Charlie\n",
            "Name: Name, dtype: object\n",
            "0      Alice\n",
            "1        Bob\n",
            "2    Charlie\n",
            "Name: Name, dtype: object\n"
          ]
        }
      ]
    },
    {
      "cell_type": "markdown",
      "source": [
        "# Selecting multiple columns:"
      ],
      "metadata": {
        "id": "jG9PiENo9wLG"
      }
    },
    {
      "cell_type": "code",
      "source": [
        "print(df[['Name', 'Age']])\n"
      ],
      "metadata": {
        "id": "H3JV06Lo9m1e"
      },
      "execution_count": null,
      "outputs": []
    },
    {
      "cell_type": "markdown",
      "source": [
        "# Selecting rows by index:"
      ],
      "metadata": {
        "id": "f8A9p5b591XW"
      }
    },
    {
      "cell_type": "code",
      "source": [
        "# Selecting by index using iloc\n",
        "print(df.iloc[0])  # First row\n",
        "print(\"________________\")\n",
        "# Selecting by index range using iloc\n",
        "print(df.iloc[0:2])  # First two rows\n",
        "print(\"________________\")\n",
        "# Selecting by label using loc\n",
        "print(df.loc[0])  # First row by index label\n",
        "# here index label is 0"
      ],
      "metadata": {
        "colab": {
          "base_uri": "https://localhost:8080/"
        },
        "id": "BpwIuhMV96xW",
        "outputId": "efd31b09-0a3d-4105-ee4a-a813b1facd2a"
      },
      "execution_count": 10,
      "outputs": [
        {
          "output_type": "stream",
          "name": "stdout",
          "text": [
            "Name       Alice\n",
            "Age           25\n",
            "City    New York\n",
            "Name: 0, dtype: object\n",
            "________________\n",
            "    Name  Age         City\n",
            "0  Alice   25     New York\n",
            "1    Bob   30  Los Angeles\n",
            "________________\n",
            "Name       Alice\n",
            "Age           25\n",
            "City    New York\n",
            "Name: 0, dtype: object\n"
          ]
        }
      ]
    },
    {
      "cell_type": "markdown",
      "source": [
        "# Boolean Indexing (Conditional Selection):"
      ],
      "metadata": {
        "id": "VH9SWEN0-hB4"
      }
    },
    {
      "cell_type": "code",
      "source": [
        "df['Age'] > 30\n"
      ],
      "metadata": {
        "colab": {
          "base_uri": "https://localhost:8080/",
          "height": 178
        },
        "id": "HofClaEF99V_",
        "outputId": "e92d4b66-1f90-4a7d-a9c8-f4647d450032"
      },
      "execution_count": 11,
      "outputs": [
        {
          "output_type": "execute_result",
          "data": {
            "text/plain": [
              "0    False\n",
              "1    False\n",
              "2     True\n",
              "Name: Age, dtype: bool"
            ],
            "text/html": [
              "<div>\n",
              "<style scoped>\n",
              "    .dataframe tbody tr th:only-of-type {\n",
              "        vertical-align: middle;\n",
              "    }\n",
              "\n",
              "    .dataframe tbody tr th {\n",
              "        vertical-align: top;\n",
              "    }\n",
              "\n",
              "    .dataframe thead th {\n",
              "        text-align: right;\n",
              "    }\n",
              "</style>\n",
              "<table border=\"1\" class=\"dataframe\">\n",
              "  <thead>\n",
              "    <tr style=\"text-align: right;\">\n",
              "      <th></th>\n",
              "      <th>Age</th>\n",
              "    </tr>\n",
              "  </thead>\n",
              "  <tbody>\n",
              "    <tr>\n",
              "      <th>0</th>\n",
              "      <td>False</td>\n",
              "    </tr>\n",
              "    <tr>\n",
              "      <th>1</th>\n",
              "      <td>False</td>\n",
              "    </tr>\n",
              "    <tr>\n",
              "      <th>2</th>\n",
              "      <td>True</td>\n",
              "    </tr>\n",
              "  </tbody>\n",
              "</table>\n",
              "</div><br><label><b>dtype:</b> bool</label>"
            ]
          },
          "metadata": {},
          "execution_count": 11
        }
      ]
    },
    {
      "cell_type": "code",
      "source": [
        "print(df[df['Age'] > 30])"
      ],
      "metadata": {
        "colab": {
          "base_uri": "https://localhost:8080/"
        },
        "id": "MKrRRdGX-o67",
        "outputId": "0dd9277f-11e1-4e73-ee78-a2b9df742620"
      },
      "execution_count": 12,
      "outputs": [
        {
          "output_type": "stream",
          "name": "stdout",
          "text": [
            "      Name  Age     City\n",
            "2  Charlie   35  Chicago\n"
          ]
        }
      ]
    },
    {
      "cell_type": "code",
      "source": [
        "print(df[df['Age'] > 30].index)\n"
      ],
      "metadata": {
        "colab": {
          "base_uri": "https://localhost:8080/"
        },
        "id": "CE85obaW-sZl",
        "outputId": "b7bfcff0-1f6f-4405-9b3b-47847b66b4e7"
      },
      "execution_count": 13,
      "outputs": [
        {
          "output_type": "stream",
          "name": "stdout",
          "text": [
            "Index([2], dtype='int64')\n"
          ]
        }
      ]
    },
    {
      "cell_type": "code",
      "source": [
        "print(df[df['Age'] > 30].index.tolist())\n"
      ],
      "metadata": {
        "colab": {
          "base_uri": "https://localhost:8080/"
        },
        "id": "jnpl1BWP_HYu",
        "outputId": "ba32dcba-e351-4615-e2a1-247c4bc58235"
      },
      "execution_count": 14,
      "outputs": [
        {
          "output_type": "stream",
          "name": "stdout",
          "text": [
            "[2]\n"
          ]
        }
      ]
    },
    {
      "cell_type": "markdown",
      "source": [
        "# Modifying Data"
      ],
      "metadata": {
        "id": "JDQwXd7q_Qhw"
      }
    },
    {
      "cell_type": "code",
      "source": [
        "df['Country'] = ['USA', 'USA', 'USA']\n",
        "print(df)\n"
      ],
      "metadata": {
        "colab": {
          "base_uri": "https://localhost:8080/"
        },
        "id": "kNs6pQ1g_MAz",
        "outputId": "bc2d1d15-5adb-42a1-b135-e50736a8f0e6"
      },
      "execution_count": 15,
      "outputs": [
        {
          "output_type": "stream",
          "name": "stdout",
          "text": [
            "      Name  Age         City Country\n",
            "0    Alice   25     New York     USA\n",
            "1      Bob   30  Los Angeles     USA\n",
            "2  Charlie   35      Chicago     USA\n"
          ]
        }
      ]
    },
    {
      "cell_type": "code",
      "source": [
        "df.at[0, 'Age'] = 26  # Change Alice's age to 26\n",
        "df.loc[1, 'City'] = 'San Francisco'  # Change Bob's city to San Francisco\n",
        "print(df)\n"
      ],
      "metadata": {
        "colab": {
          "base_uri": "https://localhost:8080/"
        },
        "id": "R45oZ9UH_UHH",
        "outputId": "fe0fa386-97b9-49af-cb45-1262c0f09dba"
      },
      "execution_count": 16,
      "outputs": [
        {
          "output_type": "stream",
          "name": "stdout",
          "text": [
            "      Name  Age           City Country\n",
            "0    Alice   26       New York     USA\n",
            "1      Bob   30  San Francisco     USA\n",
            "2  Charlie   35        Chicago     USA\n"
          ]
        }
      ]
    },
    {
      "cell_type": "markdown",
      "source": [
        "# Dropping columns or rows:"
      ],
      "metadata": {
        "id": "Wzjl9o4T_7D1"
      }
    },
    {
      "cell_type": "code",
      "source": [
        "# Drop a column\n",
        "df = df.drop('Country', axis=1)\n",
        "\n",
        "# Drop a row by index\n",
        "df = df.drop(1, axis=0)\n",
        "\n",
        "print(df)\n"
      ],
      "metadata": {
        "colab": {
          "base_uri": "https://localhost:8080/"
        },
        "id": "mTtMslL5_dTF",
        "outputId": "0b0566cd-89eb-4a89-da5f-d39885a39ec6"
      },
      "execution_count": 17,
      "outputs": [
        {
          "output_type": "stream",
          "name": "stdout",
          "text": [
            "      Name  Age      City\n",
            "0    Alice   26  New York\n",
            "2  Charlie   35   Chicago\n"
          ]
        }
      ]
    },
    {
      "cell_type": "markdown",
      "source": [
        "# Handling Missing Data"
      ],
      "metadata": {
        "id": "kozttdEEAD13"
      }
    },
    {
      "cell_type": "code",
      "source": [
        "print(df.isnull())  # Returns True for NaN values, False otherwise\n",
        "print(df.isnull().sum())  # Sum of NaN values per column\n"
      ],
      "metadata": {
        "colab": {
          "base_uri": "https://localhost:8080/"
        },
        "id": "ksNwUprd_wmk",
        "outputId": "89a9fa44-7f3b-4732-8fed-16ca5e54e920"
      },
      "execution_count": 18,
      "outputs": [
        {
          "output_type": "stream",
          "name": "stdout",
          "text": [
            "    Name    Age   City\n",
            "0  False  False  False\n",
            "2  False  False  False\n",
            "Name    0\n",
            "Age     0\n",
            "City    0\n",
            "dtype: int64\n"
          ]
        }
      ]
    },
    {
      "cell_type": "markdown",
      "source": [
        "# Filling missing values:"
      ],
      "metadata": {
        "id": "6akTGeYwAI_y"
      }
    },
    {
      "cell_type": "code",
      "source": [
        "df['Age'] = df['Age'].fillna(df['Age'].mean())  # Fill NaN values with the column mean\n"
      ],
      "metadata": {
        "id": "2NrVPzhAAAbZ"
      },
      "execution_count": 19,
      "outputs": []
    },
    {
      "cell_type": "markdown",
      "source": [
        "# Dropping rows with missing values:"
      ],
      "metadata": {
        "id": "tMU9NmkQATlU"
      }
    },
    {
      "cell_type": "code",
      "source": [
        "df = df.dropna()  # Drop rows with any NaN values\n"
      ],
      "metadata": {
        "id": "olcxronnAMvQ"
      },
      "execution_count": null,
      "outputs": []
    },
    {
      "cell_type": "markdown",
      "source": [
        "# Aggregating Data\n",
        "- You can group data by one or more columns and then aggregate with various functions like sum, mean, count, etc."
      ],
      "metadata": {
        "id": "SA_0ZtlBAbOo"
      }
    },
    {
      "cell_type": "code",
      "source": [
        "# Example data\n",
        "data = {\n",
        "    'Name': ['Alice', 'Bob', 'Charlie', 'Alice', 'Bob'],\n",
        "    'Age': [25, 30, 35, 26, 31],\n",
        "    'City': ['New York', 'Los Angeles', 'Chicago', 'New York', 'Los Angeles']\n",
        "}\n",
        "\n",
        "df = pd.DataFrame(data)\n",
        "\n",
        "# Group by 'City' and calculate the average age\n",
        "grouped = df.groupby('City').mean('Age')\n",
        "print(grouped)\n"
      ],
      "metadata": {
        "colab": {
          "base_uri": "https://localhost:8080/"
        },
        "id": "7oG6Y_EOAaUo",
        "outputId": "3dcffb5d-c8cc-4ea6-bc61-786542b127ed"
      },
      "execution_count": 21,
      "outputs": [
        {
          "output_type": "stream",
          "name": "stdout",
          "text": [
            "              Age\n",
            "City             \n",
            "Chicago      35.0\n",
            "Los Angeles  30.5\n",
            "New York     25.5\n"
          ]
        }
      ]
    },
    {
      "cell_type": "code",
      "source": [
        "# Get the sum of 'Age' grouped by 'City'\n",
        "sum_ages = df.groupby('City')['Age'].sum()\n",
        "print(sum_ages)\n",
        "\n",
        "# Get the count of people per city\n",
        "count_people = df.groupby('City').size()\n",
        "print(count_people)\n"
      ],
      "metadata": {
        "colab": {
          "base_uri": "https://localhost:8080/"
        },
        "id": "9SNS7h0uAmC6",
        "outputId": "af697e86-cf4a-4263-f568-806a4fefb2ff"
      },
      "execution_count": 22,
      "outputs": [
        {
          "output_type": "stream",
          "name": "stdout",
          "text": [
            "City\n",
            "Chicago        35\n",
            "Los Angeles    61\n",
            "New York       51\n",
            "Name: Age, dtype: int64\n",
            "City\n",
            "Chicago        1\n",
            "Los Angeles    2\n",
            "New York       2\n",
            "dtype: int64\n"
          ]
        }
      ]
    },
    {
      "cell_type": "markdown",
      "source": [
        "# Merging and Joining DataFrames"
      ],
      "metadata": {
        "id": "TnKMiWvmBO_e"
      }
    },
    {
      "cell_type": "code",
      "source": [
        "# Example data\n",
        "data1 = {\n",
        "    'Name': ['Alice', 'Bob', 'Charlie'],\n",
        "    'Age': [25, 30, 35]\n",
        "}\n",
        "\n",
        "data2 = {\n",
        "    'Name': ['Alice', 'Bob', 'Charlie'],\n",
        "    'City': ['New York', 'Los Angeles', 'Chicago']\n",
        "}\n",
        "\n",
        "df1 = pd.DataFrame(data1)\n",
        "df2 = pd.DataFrame(data2)\n",
        "\n",
        "# Merging dataframes on the 'Name' column\n",
        "merged_df = pd.merge(df1, df2, on='Name')\n",
        "print(merged_df)\n"
      ],
      "metadata": {
        "id": "F4mpPtONBCR8"
      },
      "execution_count": null,
      "outputs": []
    },
    {
      "cell_type": "markdown",
      "source": [
        "# Sorting Data"
      ],
      "metadata": {
        "id": "HiABVhJ3BV3D"
      }
    },
    {
      "cell_type": "code",
      "source": [
        "# Sort by a single column\n",
        "df_sorted = df.sort_values('Age', ascending=False)\n",
        "\n",
        "# Sort by multiple columns\n",
        "df_sorted = df.sort_values(by=['City', 'Age'], ascending=[True, False])\n"
      ],
      "metadata": {
        "id": "-UU_bTPcBU1v"
      },
      "execution_count": 23,
      "outputs": []
    },
    {
      "cell_type": "markdown",
      "source": [
        "# Reading and Writing Data"
      ],
      "metadata": {
        "id": "fnT4soS6BeSa"
      }
    },
    {
      "cell_type": "code",
      "source": [
        "\n",
        "df.to_csv('output.csv', index=False)  # index=False prevents writing row numbers\n"
      ],
      "metadata": {
        "id": "mu_fYEb2BZre"
      },
      "execution_count": 25,
      "outputs": []
    },
    {
      "cell_type": "code",
      "source": [
        "df = pd.read_csv('output.csv')"
      ],
      "metadata": {
        "id": "pYoCfonMBjje"
      },
      "execution_count": 26,
      "outputs": []
    },
    {
      "cell_type": "code",
      "source": [
        "# Writing to an Excel file\n",
        "df.to_excel('output.xlsx', index=False)"
      ],
      "metadata": {
        "id": "rGNo2YdsBtBW"
      },
      "execution_count": 27,
      "outputs": []
    },
    {
      "cell_type": "code",
      "source": [
        "# Reading Excel files (you need to install `openpyxl` or `xlrd` for Excel support)\n",
        "df = pd.read_excel('output.xlsx')"
      ],
      "metadata": {
        "id": "ZWgWaNQfByPN"
      },
      "execution_count": 29,
      "outputs": []
    },
    {
      "cell_type": "markdown",
      "source": [
        "# Time Series Data\n",
        "- Pandas has powerful functionality for working with time series data."
      ],
      "metadata": {
        "id": "Sg_Bv9dAB6ZT"
      }
    },
    {
      "cell_type": "markdown",
      "source": [
        "## Converting a column to datetime:\n"
      ],
      "metadata": {
        "id": "bzmQR391CF25"
      }
    },
    {
      "cell_type": "code",
      "source": [
        "#df['Date'] = pd.to_datetime(df['Date'])\n"
      ],
      "metadata": {
        "id": "ryLN7jN4CFiF"
      },
      "execution_count": 31,
      "outputs": []
    },
    {
      "cell_type": "markdown",
      "source": [
        "## Setting a column as the index (for time series):"
      ],
      "metadata": {
        "id": "9uMdvMHNCSfi"
      }
    },
    {
      "cell_type": "code",
      "source": [
        "df.set_index('Date', inplace=True)\n"
      ],
      "metadata": {
        "id": "5BL9mZYbB0SC"
      },
      "execution_count": null,
      "outputs": []
    },
    {
      "cell_type": "markdown",
      "source": [
        "# Resampling (e.g., to monthly data):"
      ],
      "metadata": {
        "id": "F73tM3gMCoNY"
      }
    },
    {
      "cell_type": "code",
      "source": [
        "#monthly_data = df.resample('M').mean()  # Resample by month and get the mean\n"
      ],
      "metadata": {
        "id": "PpZ2rAmDCqXy"
      },
      "execution_count": 33,
      "outputs": []
    },
    {
      "cell_type": "code",
      "source": [],
      "metadata": {
        "id": "yNkgMn62CsD6"
      },
      "execution_count": null,
      "outputs": []
    }
  ]
}